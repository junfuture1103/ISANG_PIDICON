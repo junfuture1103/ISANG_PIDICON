{
 "cells": [
  {
   "cell_type": "code",
   "execution_count": 2,
   "metadata": {},
   "outputs": [],
   "source": [
    "import pandas as pd"
   ]
  },
  {
   "cell_type": "code",
   "execution_count": 3,
   "metadata": {},
   "outputs": [],
   "source": [
    "file_path = \"./test.csv\"\n"
   ]
  },
  {
   "cell_type": "code",
   "execution_count": 8,
   "metadata": {},
   "outputs": [],
   "source": [
    "data = pd.read_csv(file_path)\n",
    "data1= pd.read_csv(file_path)\n",
    "data2= pd.read_csv(file_path)\n"
   ]
  },
  {
   "cell_type": "code",
   "execution_count": 9,
   "metadata": {},
   "outputs": [
    {
     "name": "stdout",
     "output_type": "stream",
     "text": [
      "경기 고양시 탄현동      8838\n",
      "경기 파주시 교하읍      8359\n",
      "경기 고양시 풍동       6294\n",
      "경기 고양시 마두동      6010\n",
      "경기 고양시 일산3동     5786\n",
      "                ... \n",
      "전북 익산시 모현동2가      18\n",
      "경기 안산시 대부남동       18\n",
      "대전 유성구 어은동        17\n",
      "경북 경주시 외동읍        17\n",
      "경북 경산시 백천동        17\n",
      "Name: 주소, Length: 3004, dtype: int64\n"
     ]
    }
   ],
   "source": [
    "print(data['주소'].value_counts())\n",
    "\n",
    "\n",
    "#해당 column 값의 유형과 건수를 확인\n",
    "\n",
    "#반환 결과는 많은 건수 순서로 정렬되어 값을 반환\n",
    "\n",
    " \n",
    "\n",
    "#DataFrame은 value_counts() 메소드를 갖고 있지 않기 때문에 반드시 column 명을 추출 \n",
    "\n",
    "#지정된 column의 데이터 값 건수를 반환\n",
    "\n",
    "#참고로 DataFrame에서 추출한 column의 type은 Series\n",
    "\n"
   ]
  },
  {
   "cell_type": "code",
   "execution_count": 58,
   "metadata": {},
   "outputs": [
    {
     "name": "stdout",
     "output_type": "stream",
     "text": [
      "<class 'pandas.core.frame.DataFrame'>\n",
      "RangeIndex: 500000 entries, 0 to 499999\n",
      "Data columns (total 21 columns):\n",
      " #   Column       Non-Null Count   Dtype  \n",
      "---  ------       --------------   -----  \n",
      " 0   일련번호         500000 non-null  int64  \n",
      " 1   회원번호         500000 non-null  int64  \n",
      " 2   이름           500000 non-null  object \n",
      " 3   성별           500000 non-null  object \n",
      " 4   나이           500000 non-null  int64  \n",
      " 5   주소           500000 non-null  object \n",
      " 6   생일           500000 non-null  object \n",
      " 7   핸드폰번호        500000 non-null  object \n",
      " 8   전년도 누적금액     500000 non-null  int64  \n",
      " 9   전년도 누적 구매횟수  500000 non-null  int64  \n",
      " 10  최종구매일자       500000 non-null  object \n",
      " 11  최종 주문시간      500000 non-null  object \n",
      " 12  최종 주문 요일     500000 non-null  object \n",
      " 13  주말여부         500000 non-null  object \n",
      " 14  제품코드         500000 non-null  int64  \n",
      " 15  대분류          500000 non-null  int64  \n",
      " 16  중분류          500000 non-null  int64  \n",
      " 17  세분류          500000 non-null  int64  \n",
      " 18  제품이름         500000 non-null  object \n",
      " 19  구매액          500000 non-null  int64  \n",
      " 20  수량           497746 non-null  float64\n",
      "dtypes: float64(1), int64(10), object(10)\n",
      "memory usage: 80.1+ MB\n"
     ]
    }
   ],
   "source": [
    "data.info()"
   ]
  },
  {
   "cell_type": "code",
   "execution_count": 24,
   "metadata": {},
   "outputs": [
    {
     "data": {
      "text/html": [
       "<div>\n",
       "<style scoped>\n",
       "    .dataframe tbody tr th:only-of-type {\n",
       "        vertical-align: middle;\n",
       "    }\n",
       "\n",
       "    .dataframe tbody tr th {\n",
       "        vertical-align: top;\n",
       "    }\n",
       "\n",
       "    .dataframe thead th {\n",
       "        text-align: right;\n",
       "    }\n",
       "</style>\n",
       "<table border=\"1\" class=\"dataframe\">\n",
       "  <thead>\n",
       "    <tr style=\"text-align: right;\">\n",
       "      <th></th>\n",
       "      <th>일련번호</th>\n",
       "      <th>회원번호</th>\n",
       "      <th>나이</th>\n",
       "      <th>전년도 누적금액</th>\n",
       "      <th>전년도 누적 구매횟수</th>\n",
       "      <th>제품코드</th>\n",
       "      <th>대분류</th>\n",
       "      <th>중분류</th>\n",
       "      <th>세분류</th>\n",
       "      <th>구매액</th>\n",
       "      <th>수량</th>\n",
       "    </tr>\n",
       "  </thead>\n",
       "  <tbody>\n",
       "    <tr>\n",
       "      <th>count</th>\n",
       "      <td>500000.000000</td>\n",
       "      <td>5.000000e+05</td>\n",
       "      <td>500000.000000</td>\n",
       "      <td>5.000000e+05</td>\n",
       "      <td>500000.000000</td>\n",
       "      <td>500000.000000</td>\n",
       "      <td>500000.000000</td>\n",
       "      <td>500000.000000</td>\n",
       "      <td>500000.000000</td>\n",
       "      <td>5.000000e+05</td>\n",
       "      <td>497746.000000</td>\n",
       "    </tr>\n",
       "    <tr>\n",
       "      <th>mean</th>\n",
       "      <td>250000.500000</td>\n",
       "      <td>1.002500e+08</td>\n",
       "      <td>46.466816</td>\n",
       "      <td>1.996923e+07</td>\n",
       "      <td>523.510186</td>\n",
       "      <td>20507.982328</td>\n",
       "      <td>3.914366</td>\n",
       "      <td>7.249770</td>\n",
       "      <td>4.188562</td>\n",
       "      <td>8.007252e+04</td>\n",
       "      <td>1.053979</td>\n",
       "    </tr>\n",
       "    <tr>\n",
       "      <th>std</th>\n",
       "      <td>144337.711634</td>\n",
       "      <td>1.443377e+05</td>\n",
       "      <td>15.742055</td>\n",
       "      <td>4.662537e+07</td>\n",
       "      <td>930.373032</td>\n",
       "      <td>235.164893</td>\n",
       "      <td>4.204755</td>\n",
       "      <td>5.645348</td>\n",
       "      <td>3.387362</td>\n",
       "      <td>6.450683e+04</td>\n",
       "      <td>0.351295</td>\n",
       "    </tr>\n",
       "    <tr>\n",
       "      <th>min</th>\n",
       "      <td>1.000000</td>\n",
       "      <td>1.000000e+08</td>\n",
       "      <td>20.000000</td>\n",
       "      <td>3.450000e+04</td>\n",
       "      <td>1.000000</td>\n",
       "      <td>20001.000000</td>\n",
       "      <td>1.000000</td>\n",
       "      <td>1.000000</td>\n",
       "      <td>1.000000</td>\n",
       "      <td>0.000000e+00</td>\n",
       "      <td>1.000000</td>\n",
       "    </tr>\n",
       "    <tr>\n",
       "      <th>25%</th>\n",
       "      <td>125000.750000</td>\n",
       "      <td>1.001250e+08</td>\n",
       "      <td>34.000000</td>\n",
       "      <td>3.753000e+05</td>\n",
       "      <td>12.000000</td>\n",
       "      <td>20290.000000</td>\n",
       "      <td>1.000000</td>\n",
       "      <td>2.000000</td>\n",
       "      <td>2.000000</td>\n",
       "      <td>4.430000e+04</td>\n",
       "      <td>1.000000</td>\n",
       "    </tr>\n",
       "    <tr>\n",
       "      <th>50%</th>\n",
       "      <td>250000.500000</td>\n",
       "      <td>1.002500e+08</td>\n",
       "      <td>46.000000</td>\n",
       "      <td>7.172000e+05</td>\n",
       "      <td>55.000000</td>\n",
       "      <td>20512.000000</td>\n",
       "      <td>2.000000</td>\n",
       "      <td>6.000000</td>\n",
       "      <td>3.000000</td>\n",
       "      <td>6.340000e+04</td>\n",
       "      <td>1.000000</td>\n",
       "    </tr>\n",
       "    <tr>\n",
       "      <th>75%</th>\n",
       "      <td>375000.250000</td>\n",
       "      <td>1.003750e+08</td>\n",
       "      <td>57.000000</td>\n",
       "      <td>1.378855e+07</td>\n",
       "      <td>475.000000</td>\n",
       "      <td>20724.000000</td>\n",
       "      <td>4.000000</td>\n",
       "      <td>11.000000</td>\n",
       "      <td>5.000000</td>\n",
       "      <td>9.950000e+04</td>\n",
       "      <td>1.000000</td>\n",
       "    </tr>\n",
       "    <tr>\n",
       "      <th>max</th>\n",
       "      <td>500000.000000</td>\n",
       "      <td>1.005000e+08</td>\n",
       "      <td>99.000000</td>\n",
       "      <td>2.415661e+08</td>\n",
       "      <td>3425.000000</td>\n",
       "      <td>20981.000000</td>\n",
       "      <td>14.000000</td>\n",
       "      <td>27.000000</td>\n",
       "      <td>26.000000</td>\n",
       "      <td>3.979500e+06</td>\n",
       "      <td>10.000000</td>\n",
       "    </tr>\n",
       "  </tbody>\n",
       "</table>\n",
       "</div>"
      ],
      "text/plain": [
       "                일련번호          회원번호             나이      전년도 누적금액  \\\n",
       "count  500000.000000  5.000000e+05  500000.000000  5.000000e+05   \n",
       "mean   250000.500000  1.002500e+08      46.466816  1.996923e+07   \n",
       "std    144337.711634  1.443377e+05      15.742055  4.662537e+07   \n",
       "min         1.000000  1.000000e+08      20.000000  3.450000e+04   \n",
       "25%    125000.750000  1.001250e+08      34.000000  3.753000e+05   \n",
       "50%    250000.500000  1.002500e+08      46.000000  7.172000e+05   \n",
       "75%    375000.250000  1.003750e+08      57.000000  1.378855e+07   \n",
       "max    500000.000000  1.005000e+08      99.000000  2.415661e+08   \n",
       "\n",
       "         전년도 누적 구매횟수           제품코드            대분류            중분류  \\\n",
       "count  500000.000000  500000.000000  500000.000000  500000.000000   \n",
       "mean      523.510186   20507.982328       3.914366       7.249770   \n",
       "std       930.373032     235.164893       4.204755       5.645348   \n",
       "min         1.000000   20001.000000       1.000000       1.000000   \n",
       "25%        12.000000   20290.000000       1.000000       2.000000   \n",
       "50%        55.000000   20512.000000       2.000000       6.000000   \n",
       "75%       475.000000   20724.000000       4.000000      11.000000   \n",
       "max      3425.000000   20981.000000      14.000000      27.000000   \n",
       "\n",
       "                 세분류           구매액             수량  \n",
       "count  500000.000000  5.000000e+05  497746.000000  \n",
       "mean        4.188562  8.007252e+04       1.053979  \n",
       "std         3.387362  6.450683e+04       0.351295  \n",
       "min         1.000000  0.000000e+00       1.000000  \n",
       "25%         2.000000  4.430000e+04       1.000000  \n",
       "50%         3.000000  6.340000e+04       1.000000  \n",
       "75%         5.000000  9.950000e+04       1.000000  \n",
       "max        26.000000  3.979500e+06      10.000000  "
      ]
     },
     "execution_count": 24,
     "metadata": {},
     "output_type": "execute_result"
    }
   ],
   "source": [
    "data.describe() \n",
    "\n",
    "#count: not null인 데이터 건수\n",
    "#mean: 전체 데이터의 평균값\n",
    "#std: 표준편차\n",
    "#min: 최솟값\n",
    "#max: 최대값\n",
    "#25%: 25 percentile 값\n",
    "#50%: 50 percentile 값\n",
    "#75%: 75 percentile 값\n"
   ]
  },
  {
   "cell_type": "code",
   "execution_count": 31,
   "metadata": {},
   "outputs": [
    {
     "name": "stdout",
     "output_type": "stream",
     "text": [
      "   a  b  c\n",
      "0  1  4  a\n",
      "1  2  5  b\n",
      "2  3  6  c\n",
      "3  4  7  d\n"
     ]
    }
   ],
   "source": [
    "dict = {'a':[1,2,3,4], 'b':[4,5,6,7],'c':['a','b','c','d']}\n",
    "df = pd.DataFrame(dict)\n",
    "print(df)\n"
   ]
  },
  {
   "cell_type": "code",
   "execution_count": 32,
   "metadata": {},
   "outputs": [
    {
     "name": "stdout",
     "output_type": "stream",
     "text": [
      "   a  b  c\n",
      "0  3  4  a\n",
      "1  3  5  b\n",
      "2  3  6  c\n",
      "3  4  7  d\n"
     ]
    }
   ],
   "source": [
    "for i in range(0,3):\n",
    "    df.loc[i,'a'] = 3\n",
    "print(df)"
   ]
  },
  {
   "cell_type": "code",
   "execution_count": 27,
   "metadata": {},
   "outputs": [
    {
     "data": {
      "text/html": [
       "<div>\n",
       "<style scoped>\n",
       "    .dataframe tbody tr th:only-of-type {\n",
       "        vertical-align: middle;\n",
       "    }\n",
       "\n",
       "    .dataframe tbody tr th {\n",
       "        vertical-align: top;\n",
       "    }\n",
       "\n",
       "    .dataframe thead th {\n",
       "        text-align: right;\n",
       "    }\n",
       "</style>\n",
       "<table border=\"1\" class=\"dataframe\">\n",
       "  <thead>\n",
       "    <tr style=\"text-align: right;\">\n",
       "      <th></th>\n",
       "      <th>주소</th>\n",
       "    </tr>\n",
       "  </thead>\n",
       "  <tbody>\n",
       "    <tr>\n",
       "      <th>0</th>\n",
       "      <td>대전 동구 용운동</td>\n",
       "    </tr>\n",
       "    <tr>\n",
       "      <th>1</th>\n",
       "      <td>대전 동구 용운동</td>\n",
       "    </tr>\n",
       "    <tr>\n",
       "      <th>2</th>\n",
       "      <td>경북 안동시 용상동</td>\n",
       "    </tr>\n",
       "    <tr>\n",
       "      <th>3</th>\n",
       "      <td>서울 강서구 가양3동</td>\n",
       "    </tr>\n",
       "    <tr>\n",
       "      <th>4</th>\n",
       "      <td>서울 강서구 가양3동</td>\n",
       "    </tr>\n",
       "    <tr>\n",
       "      <th>...</th>\n",
       "      <td>...</td>\n",
       "    </tr>\n",
       "    <tr>\n",
       "      <th>499995</th>\n",
       "      <td>경기 고양시 가좌동</td>\n",
       "    </tr>\n",
       "    <tr>\n",
       "      <th>499996</th>\n",
       "      <td>강원 인제군 북면</td>\n",
       "    </tr>\n",
       "    <tr>\n",
       "      <th>499997</th>\n",
       "      <td>경기 시흥시 목감동</td>\n",
       "    </tr>\n",
       "    <tr>\n",
       "      <th>499998</th>\n",
       "      <td>서울 마포구 망원동</td>\n",
       "    </tr>\n",
       "    <tr>\n",
       "      <th>499999</th>\n",
       "      <td>경기 고양시 일산3동</td>\n",
       "    </tr>\n",
       "  </tbody>\n",
       "</table>\n",
       "<p>500000 rows × 1 columns</p>\n",
       "</div>"
      ],
      "text/plain": [
       "                 주소\n",
       "0         대전 동구 용운동\n",
       "1         대전 동구 용운동\n",
       "2        경북 안동시 용상동\n",
       "3       서울 강서구 가양3동\n",
       "4       서울 강서구 가양3동\n",
       "...             ...\n",
       "499995   경기 고양시 가좌동\n",
       "499996    강원 인제군 북면\n",
       "499997   경기 시흥시 목감동\n",
       "499998   서울 마포구 망원동\n",
       "499999  경기 고양시 일산3동\n",
       "\n",
       "[500000 rows x 1 columns]"
      ]
     },
     "execution_count": 27,
     "metadata": {},
     "output_type": "execute_result"
    }
   ],
   "source": [
    "data[['주소']]"
   ]
  },
  {
   "cell_type": "code",
   "execution_count": 63,
   "metadata": {},
   "outputs": [],
   "source": [
    "for i in range(0,500000):\n",
    "    temp=data1.loc[i,'주소']\n",
    "    temp1=temp.split(' ')[0]\n",
    "    temp2=temp.split(' ')[1]\n",
    "    if len(temp1)==3:\n",
    "        temp1=temp1[:-1]\n",
    "    temp=temp1+' '+temp2\n",
    "    data1.loc[i,'주소']=temp\n",
    "\n"
   ]
  },
  {
   "cell_type": "code",
   "execution_count": 64,
   "metadata": {},
   "outputs": [
    {
     "name": "stdout",
     "output_type": "stream",
     "text": [
      "경기 고양시    87271\n",
      "경기 파주시    24528\n",
      "서울 은평구    13518\n",
      "경기 김포시    10671\n",
      "서울 강서구     9427\n",
      "          ...  \n",
      "강원 화천군       75\n",
      "강원 양구군       74\n",
      "경남 의령군       69\n",
      "경북 성주군       63\n",
      "경기 포천군       42\n",
      "Name: 주소, Length: 236, dtype: int64\n"
     ]
    }
   ],
   "source": [
    "print(data1['주소'].value_counts())"
   ]
  },
  {
   "cell_type": "code",
   "execution_count": 54,
   "metadata": {},
   "outputs": [],
   "source": [
    "for i in range(0,500000):\n",
    "    temp=data2.loc[i,'주소']\n",
    "    temp=temp.split(' ')[0]\n",
    "    if len(temp)==3:\n",
    "        temp=temp[:-1]\n",
    "    data2.loc[i,'주소']=temp"
   ]
  },
  {
   "cell_type": "code",
   "execution_count": 6,
   "metadata": {
    "scrolled": true
   },
   "outputs": [
    {
     "ename": "NameError",
     "evalue": "name 'data2' is not defined",
     "output_type": "error",
     "traceback": [
      "\u001b[1;31m---------------------------------------------------------------------------\u001b[0m",
      "\u001b[1;31mNameError\u001b[0m                                 Traceback (most recent call last)",
      "\u001b[1;32m<ipython-input-6-2f17186c4c10>\u001b[0m in \u001b[0;36m<module>\u001b[1;34m\u001b[0m\n\u001b[1;32m----> 1\u001b[1;33m \u001b[0mprint\u001b[0m\u001b[1;33m(\u001b[0m\u001b[0mdata2\u001b[0m\u001b[1;33m)\u001b[0m\u001b[1;33m\u001b[0m\u001b[1;33m\u001b[0m\u001b[0m\n\u001b[0m",
      "\u001b[1;31mNameError\u001b[0m: name 'data2' is not defined"
     ]
    }
   ],
   "source": [
    "print(data2)"
   ]
  },
  {
   "cell_type": "code",
   "execution_count": 7,
   "metadata": {},
   "outputs": [
    {
     "name": "stdout",
     "output_type": "stream",
     "text": [
      "   일련번호       회원번호   이름 성별  나이           주소       생일          핸드폰번호  \\\n",
      "0     1  100000001  김소유  F  55    대전 동구 용운동  11월 20일  990-3916-9336   \n",
      "1     2  100000002  장상순  F  54    대전 동구 용운동  11월 20일  990-1832-3061   \n",
      "2     3  100000003  문수영  M  32   경북 안동시 용상동  11월 19일  990-6448-9099   \n",
      "3     4  100000004  김태린  F  68  서울 강서구 가양3동   5월 12일  990-4368-0858   \n",
      "4     5  100000005  장유나  F  66  서울 강서구 가양3동   5월 12일  990-6656-3757   \n",
      "\n",
      "    전년도 누적금액  전년도 누적 구매횟수  ... 최종 주문시간 최종 주문 요일 주말여부   제품코드  대분류  중분류  세분류  \\\n",
      "0     381700           62  ...   16:50        화    F  20837    1    8    2   \n",
      "1     516000           59  ...    9:20        월    F  20827    1    1    1   \n",
      "2  136047200          515  ...   22:46        금    F  20262    2   10    1   \n",
      "3   40523200          864  ...    4:08        일    T  20615    1    7    4   \n",
      "4   44909000         2860  ...    0:32        금    F  20615    1    7    4   \n",
      "\n",
      "                 제품이름     구매액   수량  \n",
      "0     여름 밴딩 팬츠 3종 남성용   63400  1.0  \n",
      "1  목이 개운한 3D  입체 베개2종   53300  1.0  \n",
      "2            블랙박스 32G  102500  1.0  \n",
      "3        비데 최고급 리모컨비데  183500  1.0  \n",
      "4        비데 최고급 리모컨비데  193500  1.0  \n",
      "\n",
      "[5 rows x 21 columns]\n"
     ]
    }
   ],
   "source": [
    "print(data1.head())"
   ]
  },
  {
   "cell_type": "code",
   "execution_count": 16,
   "metadata": {},
   "outputs": [],
   "source": [
    "# 이름은 식별자이므로 원칙적으로 삭제가 원칙이나 필요한 경우 비식별조치(익명처리)후 사용\n",
    "# 이름 기준 마스킹, \n",
    "# ver1 : 성만 놔두고 *처리, \n",
    "# ver2 : 중간 글자 마스킹(맨앞, 맨뒤 글자만 남기고 *처리 ) \n",
    "# ver1이 적합하다 판단. ver2는 두글자 이름일 시 애매하며 굳이 본인 식별의 필요가 없기에 이름의 맨 마지막 글자를 놔둘 필요 없어보임\n",
    "#\n",
    "for i in range(0,500000):\n",
    "    temp=data2.loc[i,'이름']\n",
    "    temp=temp[0]+\"**\"\n",
    "    data2.loc[i,'이름']=temp"
   ]
  },
  {
   "cell_type": "code",
   "execution_count": 15,
   "metadata": {},
   "outputs": [
    {
     "data": {
      "text/plain": [
       "'김**'"
      ]
     },
     "execution_count": 15,
     "metadata": {},
     "output_type": "execute_result"
    }
   ],
   "source": [
    "temp=data2.loc[0,'이름']\n",
    "temp=temp[0]+\"**\"\n",
    "temp"
   ]
  },
  {
   "cell_type": "code",
   "execution_count": 20,
   "metadata": {},
   "outputs": [
    {
     "name": "stdout",
     "output_type": "stream",
     "text": [
      "0         김**\n",
      "1         장**\n",
      "2         문**\n",
      "3         김**\n",
      "4         장**\n",
      "         ... \n",
      "499995    김**\n",
      "499996    지**\n",
      "499997    최**\n",
      "499998    이**\n",
      "499999    박**\n",
      "Name: 이름, Length: 500000, dtype: object\n"
     ]
    }
   ],
   "source": [
    "print(data2['이름'])"
   ]
  },
  {
   "cell_type": "code",
   "execution_count": null,
   "metadata": {},
   "outputs": [],
   "source": []
  }
 ],
 "metadata": {
  "kernelspec": {
   "display_name": "Python 3",
   "language": "python",
   "name": "python3"
  },
  "language_info": {
   "codemirror_mode": {
    "name": "ipython",
    "version": 3
   },
   "file_extension": ".py",
   "mimetype": "text/x-python",
   "name": "python",
   "nbconvert_exporter": "python",
   "pygments_lexer": "ipython3",
   "version": "3.8.5"
  }
 },
 "nbformat": 4,
 "nbformat_minor": 4
}
