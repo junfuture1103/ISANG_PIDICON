{
 "cells": [
  {
   "cell_type": "code",
   "execution_count": 2,
   "metadata": {},
   "outputs": [],
   "source": [
    "import pandas as pd"
   ]
  },
  {
   "cell_type": "code",
   "execution_count": 3,
   "metadata": {},
   "outputs": [],
   "source": [
    "file_path = \"./test.csv\"\n"
   ]
  },
  {
   "cell_type": "code",
   "execution_count": 8,
   "metadata": {},
   "outputs": [],
   "source": [
    "data = pd.read_csv(file_path)\n",
    "data1= pd.read_csv(file_path)\n",
    "data2= pd.read_csv(file_path)\n"
   ]
  },
  {
   "cell_type": "code",
   "execution_count": 16,
   "metadata": {},
   "outputs": [],
   "source": [
    "# 이름은 식별자이므로 원칙적으로 삭제가 원칙이나 필요한 경우 비식별조치(익명처리)후 사용\n",
    "# 이름 기준 마스킹, \n",
    "# ver1 : 성만 놔두고 *처리, \n",
    "# ver2 : 중간 글자 마스킹(맨앞, 맨뒤 글자만 남기고 *처리 ) \n",
    "# ver1이 적합하다 판단. ver2는 두글자 이름일 시 애매하며 굳이 본인 식별의 필요가 없기에 이름의 맨 마지막 글자를 놔둘 필요 없어보임\n",
    "#\n",
    "for i in range(0,500000):\n",
    "    temp=data2.loc[i,'이름']\n",
    "    temp=temp[0]+\"**\"\n",
    "    data2.loc[i,'이름']=temp"
   ]
  },
  {
   "cell_type": "code",
   "execution_count": 15,
   "metadata": {},
   "outputs": [
    {
     "data": {
      "text/plain": [
       "'김**'"
      ]
     },
     "execution_count": 15,
     "metadata": {},
     "output_type": "execute_result"
    }
   ],
   "source": [
    "temp=data2.loc[0,'이름']\n",
    "temp=temp[0]+\"**\"\n",
    "temp"
   ]
  },
  {
   "cell_type": "code",
   "execution_count": 20,
   "metadata": {},
   "outputs": [
    {
     "name": "stdout",
     "output_type": "stream",
     "text": [
      "0         김**\n",
      "1         장**\n",
      "2         문**\n",
      "3         김**\n",
      "4         장**\n",
      "         ... \n",
      "499995    김**\n",
      "499996    지**\n",
      "499997    최**\n",
      "499998    이**\n",
      "499999    박**\n",
      "Name: 이름, Length: 500000, dtype: object\n"
     ]
    }
   ],
   "source": [
    "print(data2['이름'])"
   ]
  },
  {
   "cell_type": "code",
   "execution_count": null,
   "metadata": {},
   "outputs": [],
   "source": []
  }
 ],
 "metadata": {
  "kernelspec": {
   "display_name": "Python 3",
   "language": "python",
   "name": "python3"
  },
  "language_info": {
   "codemirror_mode": {
    "name": "ipython",
    "version": 3
   },
   "file_extension": ".py",
   "mimetype": "text/x-python",
   "name": "python",
   "nbconvert_exporter": "python",
   "pygments_lexer": "ipython3",
   "version": "3.8.5"
  }
 },
 "nbformat": 4,
 "nbformat_minor": 4
}
